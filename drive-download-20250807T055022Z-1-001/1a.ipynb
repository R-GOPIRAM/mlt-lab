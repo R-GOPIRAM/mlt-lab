{
 "cells": [
  {
   "cell_type": "code",
   "execution_count": null,
   "metadata": {
    "colab": {
     "base_uri": "https://localhost:8080/"
    },
    "executionInfo": {
     "elapsed": 71,
     "status": "ok",
     "timestamp": 1754541919821,
     "user": {
      "displayName": "GOPIRAM R 2022-2026",
      "userId": "07421029962885219657"
     },
     "user_tz": -330
    },
    "id": "aAWPZWOX2Hgx",
    "outputId": "4bfac83b-67aa-4267-df3f-91ca68510a94"
   },
   "outputs": [],
   "source": [
    "import math\n",
    "\n",
    "# Check whether some values are NaN or not\n",
    "print(math.isnan(56))                # ➝ False (normal number)\n",
    "print(math.isnan(-45.34))            # ➝ False (normal float)\n",
    "print(math.isnan(+45.34))            # ➝ False (normal float)\n",
    "print(math.isnan(math.inf))          # ➝ False (infinity is not NaN)\n",
    "print(math.isnan(float(\"nan\")))      # ➝ True (this is NaN)\n",
    "print(math.isnan(float(\"inf\")))      # ➝ False (still infinity)\n",
    "print(math.isnan(float(\"-inf\")))     # ➝ False (still -infinity)\n",
    "print(math.isnan(math.nan))          # ➝ True (NaN constant from math)\n"
   ]
  }
 ],
 "metadata": {
  "colab": {
   "authorship_tag": "ABX9TyOtn9vKzFxhFmyHAnxuC0Go",
   "provenance": []
  },
  "kernelspec": {
   "display_name": "Python 3",
   "name": "python3"
  },
  "language_info": {
   "name": "python",
   "version": "3.7.1"
  }
 },
 "nbformat": 4,
 "nbformat_minor": 0
}
